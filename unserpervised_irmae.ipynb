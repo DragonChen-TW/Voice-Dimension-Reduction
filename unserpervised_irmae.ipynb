{
 "cells": [
  {
   "cell_type": "code",
   "execution_count": null,
   "metadata": {},
   "outputs": [],
   "source": [
    "import pandas as pd\n",
    "import torch"
   ]
  },
  {
   "cell_type": "code",
   "execution_count": null,
   "metadata": {},
   "outputs": [],
   "source": [
    "df = pd.read_csv('voice.csv')\n",
    "df"
   ]
  },
  {
   "cell_type": "code",
   "execution_count": null,
   "metadata": {},
   "outputs": [],
   "source": [
    "x = df.values[:, :-1]\n",
    "x = torch.tensor(x.astype('float32'))\n",
    "y = df.values[:, -1]\n",
    "print('y', y)\n",
    "y[y == 'male'] = 0\n",
    "y[y == 'female'] = 1\n",
    "print('y', y)\n",
    "y = torch.tensor(y.astype('float32'))"
   ]
  },
  {
   "cell_type": "code",
   "execution_count": null,
   "metadata": {},
   "outputs": [],
   "source": [
    "from torch.utils.data import random_split, DataLoader, Dataset"
   ]
  },
  {
   "cell_type": "code",
   "execution_count": null,
   "metadata": {},
   "outputs": [],
   "source": [
    "class TensorDataset(Dataset):\n",
    "    def __init__(self, *tensors, mu, std):\n",
    "        assert all(tensors[0].size(0) == tensor.size(0) for tensor in tensors), \"Size mismatch between tensors\"\n",
    "        self.tensors = tensors\n",
    "        self.mu = mu\n",
    "        self.std = std\n",
    "\n",
    "    def __getitem__(self, index):\n",
    "        x = self.tensors[0][index]\n",
    "        x = (x - self.mu) / self.std\n",
    "        y = self.tensors[1][index]\n",
    "        return (x, y)\n",
    "\n",
    "    def __len__(self):\n",
    "        return self.tensors[0].size(0)"
   ]
  },
  {
   "cell_type": "code",
   "execution_count": null,
   "metadata": {},
   "outputs": [],
   "source": [
    "train_size = round(len(x) * 0.7)\n",
    "test_size = len(x) - train_size\n",
    "train_idx, test_idx = random_split(range(len(x)), [train_size, test_size])\n",
    "mu = x[train_idx].mean(dim=0)\n",
    "std = x[train_idx].std(dim=0)"
   ]
  },
  {
   "cell_type": "code",
   "execution_count": null,
   "metadata": {},
   "outputs": [],
   "source": [
    "dataset_train = TensorDataset(x[train_idx], y[train_idx], mu=mu, std=std)\n",
    "dataset_test = TensorDataset(x[test_idx], y[test_idx], mu=mu, std=std)"
   ]
  },
  {
   "cell_type": "code",
   "execution_count": null,
   "metadata": {},
   "outputs": [],
   "source": [
    "print('train', len(dataset_train))\n",
    "print('test', len(dataset_test))"
   ]
  },
  {
   "cell_type": "code",
   "execution_count": null,
   "metadata": {},
   "outputs": [],
   "source": [
    "batch_size = 64\n",
    "train_data = DataLoader(dataset_train, batch_size=batch_size, shuffle=True)\n",
    "test_data = DataLoader(dataset_test, batch_size=batch_size, shuffle=False)"
   ]
  },
  {
   "cell_type": "code",
   "execution_count": 19,
   "metadata": {},
   "outputs": [],
   "source": [
    "from torch import nn\n",
    "\n",
    "latent_dim = 5\n",
    "\n",
    "class VoiceEncoder(nn.Module):\n",
    "    def __init__(self):\n",
    "        super().__init__()\n",
    "        self.encoder = nn.Sequential(\n",
    "            nn.Linear(20, 12),\n",
    "            nn.ReLU(True),\n",
    "            nn.BatchNorm1d(12),\n",
    "            nn.Linear(12, 7),\n",
    "            nn.ReLU(True),\n",
    "            nn.BatchNorm1d(7),\n",
    "            nn.Linear(7, latent_dim),\n",
    "        )\n",
    "    \n",
    "    def forward(self, x):\n",
    "        return self.encoder(x)\n",
    "\n",
    "class VoiceDecoder(nn.Module):\n",
    "    def __init__(self):\n",
    "        super().__init__()\n",
    "        self.decoder = nn.Sequential(\n",
    "            nn.Linear(latent_dim, 7),\n",
    "            nn.ReLU(True),\n",
    "            nn.BatchNorm1d(7),\n",
    "            nn.Linear(7, 12),\n",
    "            nn.ReLU(True),\n",
    "            nn.BatchNorm1d(12),\n",
    "            nn.Linear(12, 20),\n",
    "        )\n",
    "    \n",
    "    def forward(self, x):\n",
    "        return self.decoder(x)\n",
    "\n",
    "class VoiceAE(nn.Module):\n",
    "    def __init__(self):\n",
    "        super().__init__()\n",
    "        self.encoder = VoiceEncoder()\n",
    "        \n",
    "        w_layers = [nn.Linear(latent_dim, latent_dim, bias=False) for _ in range(2)]\n",
    "        self.w_layers = nn.Sequential(*w_layers)\n",
    "        \n",
    "        self.decoder = VoiceDecoder()\n",
    "\n",
    "    def forward(self, x):\n",
    "        encode = self.encoder(x)\n",
    "        z = self.w_layers(encode)\n",
    "        return self.decoder(z)"
   ]
  },
  {
   "cell_type": "code",
   "execution_count": 20,
   "metadata": {},
   "outputs": [],
   "source": [
    "device = torch.device('cuda:2')\n",
    "model = VoiceAE().to(device)\n",
    "criterion = nn.MSELoss()\n",
    "optimizer = torch.optim.AdamW(model.parameters(), lr=1e-2)"
   ]
  },
  {
   "cell_type": "code",
   "execution_count": 21,
   "metadata": {},
   "outputs": [],
   "source": [
    "# # test model\n",
    "# test_x = torch.rand(16, 20).to(device)\n",
    "# model(test_x).shape"
   ]
  },
  {
   "cell_type": "code",
   "execution_count": 22,
   "metadata": {},
   "outputs": [],
   "source": [
    "from tqdm import tqdm\n",
    "def train(model, data, epoch, criterion, optimizer, device, is_tqdm=False):\n",
    "    model.train()\n",
    "    loss_list = []\n",
    "    acc_count = 0\n",
    "\n",
    "    loader = enumerate(data)\n",
    "    if is_tqdm:\n",
    "        loader = tqdm(loader, total=len(data))\n",
    "    for i, (batch, _) in loader:\n",
    "        batch = batch.to(device)\n",
    "\n",
    "        optimizer.zero_grad()\n",
    "        recon = model(batch).squeeze() # predict the label\n",
    "        loss = criterion(recon, batch) # calculate error\n",
    "        loss_list.append(loss.item())\n",
    "        \n",
    "        loss.backward()  # back-propagation\n",
    "        optimizer.step() # gradient descent\n",
    "\n",
    "    return sum(loss_list) / len(loss_list)\n",
    "\n",
    "def test(model, data, criterion, device, is_tqdm=False):\n",
    "    model.eval()\n",
    "    loss_list = []\n",
    "\n",
    "    acc_count = 0\n",
    "    loader = enumerate(data)\n",
    "    if is_tqdm:\n",
    "        loader = tqdm(loader, total=len(data))\n",
    "    for i, (batch, _) in loader:\n",
    "        batch = batch.to(device)\n",
    "\n",
    "        recon = model(batch).squeeze()\n",
    "        loss = criterion(recon, batch)\n",
    "        loss_list.append(loss.item())\n",
    "\n",
    "    return sum(loss_list) / len(loss_list)"
   ]
  },
  {
   "cell_type": "code",
   "execution_count": 23,
   "metadata": {},
   "outputs": [
    {
     "name": "stdout",
     "output_type": "stream",
     "text": [
      "0.12441876253911427\n",
      "0.11845431973536809\n"
     ]
    }
   ],
   "source": [
    "# ckpt = torch.load('ckpts/irmae_dim5.pt')\n",
    "# model.load_state_dict(ckpt)\n",
    "# print(test(model, train_data, criterion, device))\n",
    "# print(test(model, test_data, criterion, device))"
   ]
  },
  {
   "cell_type": "code",
   "execution_count": 14,
   "metadata": {},
   "outputs": [],
   "source": [
    "import matplotlib.pyplot as plt\n",
    "\n",
    "class Meter:\n",
    "    def __init__(self):\n",
    "        self.train_loss_list = []\n",
    "        self.val_loss_list = []\n",
    "    \n",
    "    def update(self, train_loss, val_loss):\n",
    "        self.train_loss_list.append(train_loss)\n",
    "        self.val_loss_list.append(val_loss)\n",
    "    \n",
    "    def plot(self):\n",
    "        x = range(len(self.train_loss_list))\n",
    "        plt.figure(figsize=(12, 4))\n",
    "        plt.plot(x, self.train_loss_list)\n",
    "        plt.plot(x, self.val_loss_list, color='r')\n",
    "        plt.legend(['train_loss', 'val_loss'])\n",
    "        plt.show()"
   ]
  },
  {
   "cell_type": "code",
   "execution_count": 15,
   "metadata": {},
   "outputs": [
    {
     "name": "stdout",
     "output_type": "stream",
     "text": [
      "==========Train Epoch 20==========\n",
      "Train loss: 0.2712 - Test loss: 0.2373\n",
      "==========Train Epoch 40==========\n",
      "Train loss: 0.2453 - Test loss: 0.2207\n",
      "==========Train Epoch 60==========\n",
      "Train loss: 0.2242 - Test loss: 0.2086\n",
      "==========Train Epoch 80==========\n",
      "Train loss: 0.2187 - Test loss: 0.1894\n",
      "==========Train Epoch 100==========\n",
      "Train loss: 0.2165 - Test loss: 0.1919\n",
      "==========Train Epoch 120==========\n",
      "Train loss: 0.2149 - Test loss: 0.1856\n",
      "==========Train Epoch 140==========\n",
      "Train loss: 0.2076 - Test loss: 0.1865\n",
      "==========Train Epoch 160==========\n",
      "Train loss: 0.2134 - Test loss: 0.1828\n",
      "==========Train Epoch 180==========\n",
      "Train loss: 0.2064 - Test loss: 0.1821\n",
      "==========Train Epoch 200==========\n",
      "Train loss: 0.2045 - Test loss: 0.1874\n",
      "==========Train Epoch 220==========\n",
      "Train loss: 0.1985 - Test loss: 0.1804\n",
      "==========Train Epoch 240==========\n",
      "Train loss: 0.2054 - Test loss: 0.1791\n",
      "==========Train Epoch 260==========\n",
      "Train loss: 0.2029 - Test loss: 0.1797\n",
      "==========Train Epoch 280==========\n",
      "Train loss: 0.2027 - Test loss: 0.1799\n"
     ]
    }
   ],
   "source": [
    "from torch.optim.lr_scheduler import StepLR\n",
    "\n",
    "max_epoch = 280\n",
    "step_size = 70\n",
    "log_interval = 20\n",
    "\n",
    "scheduler = StepLR(optimizer, step_size=step_size, gamma=0.5)\n",
    "\n",
    "meter = Meter()\n",
    "\n",
    "for epoch in range(1, max_epoch + 1):\n",
    "    if epoch % log_interval == 0:\n",
    "        tqdm.write('==========Train Epoch {}=========='.format(epoch))\n",
    "    train_loss = train(model, train_data, epoch, criterion, optimizer, device)\n",
    "    test_loss = test(model, test_data, criterion, device)\n",
    "    scheduler.step()\n",
    "    \n",
    "    meter.update(train_loss, test_loss)\n",
    "    \n",
    "    if epoch % log_interval == 0:\n",
    "        print('Train loss: {:.04f} - Test loss: {:.04f}'.format(\n",
    "            train_loss, test_loss,\n",
    "        ))"
   ]
  },
  {
   "cell_type": "code",
   "execution_count": 20,
   "metadata": {},
   "outputs": [
    {
     "data": {
      "text/plain": [
       "1431.6666666666667"
      ]
     },
     "execution_count": 20,
     "metadata": {},
     "output_type": "execute_result"
    }
   ],
   "source": [
    "(1365 + 1231 + 1699) / 3"
   ]
  },
  {
   "cell_type": "markdown",
   "metadata": {},
   "source": [
    "Train loss: 0.1575 - Test loss: 0.1365  \n",
    "Train loss: 0.1522 - Test loss: 0.1231  \n",
    "Train loss: 0.2027 - Test loss: 0.1799"
   ]
  },
  {
   "cell_type": "code",
   "execution_count": 16,
   "metadata": {},
   "outputs": [],
   "source": [
    "# x_ = dataset_train[0][0].to(device).unsqueeze(0)\n",
    "# recon = model(x_).detach()\n",
    "# print(recon)\n",
    "# print(x_)"
   ]
  },
  {
   "cell_type": "code",
   "execution_count": 17,
   "metadata": {},
   "outputs": [],
   "source": [
    "# torch.save(model.state_dict(), 'ckpts/irmae_dim5.pt')"
   ]
  },
  {
   "cell_type": "code",
   "execution_count": 18,
   "metadata": {},
   "outputs": [
    {
     "data": {
      "image/png": "[encoded data removed]",
      "text/plain": [
       "<Figure size 864x288 with 1 Axes>"
      ]
     },
     "metadata": {
      "needs_background": "light"
     },
     "output_type": "display_data"
    }
   ],
   "source": [
    "meter.plot()"
   ]
  }
 ],
 "metadata": {
  "kernelspec": {
   "display_name": "Python 3",
   "language": "python",
   "name": "python3"
  },
  "language_info": {
   "codemirror_mode": {
    "name": "ipython",
    "version": 3
   },
   "file_extension": ".py",
   "mimetype": "text/x-python",
   "name": "python",
   "nbconvert_exporter": "python",
   "pygments_lexer": "ipython3",
   "version": "3.6.8"
  }
 },
 "nbformat": 4,
 "nbformat_minor": 4
}

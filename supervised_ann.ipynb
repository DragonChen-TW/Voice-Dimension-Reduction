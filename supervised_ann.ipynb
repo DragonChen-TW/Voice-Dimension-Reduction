{
 "cells": [
  {
   "cell_type": "code",
   "execution_count": 1,
   "metadata": {},
   "outputs": [],
   "source": [
    "import pandas as pd\n",
    "import torch"
   ]
  },
  {
   "cell_type": "code",
   "execution_count": 2,
   "metadata": {},
   "outputs": [
    {
     "data": {
      "text/html": [
       "<div>\n",
       "<style scoped>\n",
       "    .dataframe tbody tr th:only-of-type {\n",
       "        vertical-align: middle;\n",
       "    }\n",
       "\n",
       "    .dataframe tbody tr th {\n",
       "        vertical-align: top;\n",
       "    }\n",
       "\n",
       "    .dataframe thead th {\n",
       "        text-align: right;\n",
       "    }\n",
       "</style>\n",
       "<table border=\"1\" class=\"dataframe\">\n",
       "  <thead>\n",
       "    <tr style=\"text-align: right;\">\n",
       "      <th></th>\n",
       "      <th>meanfreq</th>\n",
       "      <th>sd</th>\n",
       "      <th>median</th>\n",
       "      <th>Q25</th>\n",
       "      <th>Q75</th>\n",
       "      <th>IQR</th>\n",
       "      <th>skew</th>\n",
       "      <th>kurt</th>\n",
       "      <th>sp.ent</th>\n",
       "      <th>sfm</th>\n",
       "      <th>...</th>\n",
       "      <th>centroid</th>\n",
       "      <th>meanfun</th>\n",
       "      <th>minfun</th>\n",
       "      <th>maxfun</th>\n",
       "      <th>meandom</th>\n",
       "      <th>mindom</th>\n",
       "      <th>maxdom</th>\n",
       "      <th>dfrange</th>\n",
       "      <th>modindx</th>\n",
       "      <th>label</th>\n",
       "    </tr>\n",
       "  </thead>\n",
       "  <tbody>\n",
       "    <tr>\n",
       "      <th>0</th>\n",
       "      <td>0.059781</td>\n",
       "      <td>0.064241</td>\n",
       "      <td>0.032027</td>\n",
       "      <td>0.015071</td>\n",
       "      <td>0.090193</td>\n",
       "      <td>0.075122</td>\n",
       "      <td>12.863462</td>\n",
       "      <td>274.402906</td>\n",
       "      <td>0.893369</td>\n",
       "      <td>0.491918</td>\n",
       "      <td>...</td>\n",
       "      <td>0.059781</td>\n",
       "      <td>0.084279</td>\n",
       "      <td>0.015702</td>\n",
       "      <td>0.275862</td>\n",
       "      <td>0.007812</td>\n",
       "      <td>0.007812</td>\n",
       "      <td>0.007812</td>\n",
       "      <td>0.000000</td>\n",
       "      <td>0.000000</td>\n",
       "      <td>male</td>\n",
       "    </tr>\n",
       "    <tr>\n",
       "      <th>1</th>\n",
       "      <td>0.066009</td>\n",
       "      <td>0.067310</td>\n",
       "      <td>0.040229</td>\n",
       "      <td>0.019414</td>\n",
       "      <td>0.092666</td>\n",
       "      <td>0.073252</td>\n",
       "      <td>22.423285</td>\n",
       "      <td>634.613855</td>\n",
       "      <td>0.892193</td>\n",
       "      <td>0.513724</td>\n",
       "      <td>...</td>\n",
       "      <td>0.066009</td>\n",
       "      <td>0.107937</td>\n",
       "      <td>0.015826</td>\n",
       "      <td>0.250000</td>\n",
       "      <td>0.009014</td>\n",
       "      <td>0.007812</td>\n",
       "      <td>0.054688</td>\n",
       "      <td>0.046875</td>\n",
       "      <td>0.052632</td>\n",
       "      <td>male</td>\n",
       "    </tr>\n",
       "    <tr>\n",
       "      <th>2</th>\n",
       "      <td>0.077316</td>\n",
       "      <td>0.083829</td>\n",
       "      <td>0.036718</td>\n",
       "      <td>0.008701</td>\n",
       "      <td>0.131908</td>\n",
       "      <td>0.123207</td>\n",
       "      <td>30.757155</td>\n",
       "      <td>1024.927705</td>\n",
       "      <td>0.846389</td>\n",
       "      <td>0.478905</td>\n",
       "      <td>...</td>\n",
       "      <td>0.077316</td>\n",
       "      <td>0.098706</td>\n",
       "      <td>0.015656</td>\n",
       "      <td>0.271186</td>\n",
       "      <td>0.007990</td>\n",
       "      <td>0.007812</td>\n",
       "      <td>0.015625</td>\n",
       "      <td>0.007812</td>\n",
       "      <td>0.046512</td>\n",
       "      <td>male</td>\n",
       "    </tr>\n",
       "    <tr>\n",
       "      <th>3</th>\n",
       "      <td>0.151228</td>\n",
       "      <td>0.072111</td>\n",
       "      <td>0.158011</td>\n",
       "      <td>0.096582</td>\n",
       "      <td>0.207955</td>\n",
       "      <td>0.111374</td>\n",
       "      <td>1.232831</td>\n",
       "      <td>4.177296</td>\n",
       "      <td>0.963322</td>\n",
       "      <td>0.727232</td>\n",
       "      <td>...</td>\n",
       "      <td>0.151228</td>\n",
       "      <td>0.088965</td>\n",
       "      <td>0.017798</td>\n",
       "      <td>0.250000</td>\n",
       "      <td>0.201497</td>\n",
       "      <td>0.007812</td>\n",
       "      <td>0.562500</td>\n",
       "      <td>0.554688</td>\n",
       "      <td>0.247119</td>\n",
       "      <td>male</td>\n",
       "    </tr>\n",
       "    <tr>\n",
       "      <th>4</th>\n",
       "      <td>0.135120</td>\n",
       "      <td>0.079146</td>\n",
       "      <td>0.124656</td>\n",
       "      <td>0.078720</td>\n",
       "      <td>0.206045</td>\n",
       "      <td>0.127325</td>\n",
       "      <td>1.101174</td>\n",
       "      <td>4.333713</td>\n",
       "      <td>0.971955</td>\n",
       "      <td>0.783568</td>\n",
       "      <td>...</td>\n",
       "      <td>0.135120</td>\n",
       "      <td>0.106398</td>\n",
       "      <td>0.016931</td>\n",
       "      <td>0.266667</td>\n",
       "      <td>0.712812</td>\n",
       "      <td>0.007812</td>\n",
       "      <td>5.484375</td>\n",
       "      <td>5.476562</td>\n",
       "      <td>0.208274</td>\n",
       "      <td>male</td>\n",
       "    </tr>\n",
       "  </tbody>\n",
       "</table>\n",
       "<p>5 rows × 21 columns</p>\n",
       "</div>"
      ],
      "text/plain": [
       "   meanfreq        sd    median       Q25       Q75       IQR       skew  \\\n",
       "0  0.059781  0.064241  0.032027  0.015071  0.090193  0.075122  12.863462   \n",
       "1  0.066009  0.067310  0.040229  0.019414  0.092666  0.073252  22.423285   \n",
       "2  0.077316  0.083829  0.036718  0.008701  0.131908  0.123207  30.757155   \n",
       "3  0.151228  0.072111  0.158011  0.096582  0.207955  0.111374   1.232831   \n",
       "4  0.135120  0.079146  0.124656  0.078720  0.206045  0.127325   1.101174   \n",
       "\n",
       "          kurt    sp.ent       sfm  ...  centroid   meanfun    minfun  \\\n",
       "0   274.402906  0.893369  0.491918  ...  0.059781  0.084279  0.015702   \n",
       "1   634.613855  0.892193  0.513724  ...  0.066009  0.107937  0.015826   \n",
       "2  1024.927705  0.846389  0.478905  ...  0.077316  0.098706  0.015656   \n",
       "3     4.177296  0.963322  0.727232  ...  0.151228  0.088965  0.017798   \n",
       "4     4.333713  0.971955  0.783568  ...  0.135120  0.106398  0.016931   \n",
       "\n",
       "     maxfun   meandom    mindom    maxdom   dfrange   modindx  label  \n",
       "0  0.275862  0.007812  0.007812  0.007812  0.000000  0.000000   male  \n",
       "1  0.250000  0.009014  0.007812  0.054688  0.046875  0.052632   male  \n",
       "2  0.271186  0.007990  0.007812  0.015625  0.007812  0.046512   male  \n",
       "3  0.250000  0.201497  0.007812  0.562500  0.554688  0.247119   male  \n",
       "4  0.266667  0.712812  0.007812  5.484375  5.476562  0.208274   male  \n",
       "\n",
       "[5 rows x 21 columns]"
      ]
     },
     "execution_count": 2,
     "metadata": {},
     "output_type": "execute_result"
    }
   ],
   "source": [
    "df = pd.read_csv('voice.csv')\n",
    "df.head()"
   ]
  },
  {
   "cell_type": "code",
   "execution_count": 3,
   "metadata": {},
   "outputs": [
    {
     "name": "stdout",
     "output_type": "stream",
     "text": [
      "y ['male' 'male' 'male' ... 'female' 'female' 'female']\n",
      "y [0 0 0 ... 1 1 1]\n"
     ]
    }
   ],
   "source": [
    "x = df.values[:, :-1]\n",
    "x = torch.tensor(x.astype('float32'))\n",
    "y = df.values[:, -1]\n",
    "print('y', y)\n",
    "y[y == 'male'] = 0\n",
    "y[y == 'female'] = 1\n",
    "print('y', y)\n",
    "y = torch.tensor(y.astype('float32'))"
   ]
  },
  {
   "cell_type": "code",
   "execution_count": 4,
   "metadata": {},
   "outputs": [],
   "source": [
    "from torch.utils.data import random_split, DataLoader, Dataset"
   ]
  },
  {
   "cell_type": "code",
   "execution_count": 5,
   "metadata": {},
   "outputs": [],
   "source": [
    "class TensorDataset(Dataset):\n",
    "    def __init__(self, *tensors, mu, std):\n",
    "        assert all(tensors[0].size(0) == tensor.size(0) for tensor in tensors), \"Size mismatch between tensors\"\n",
    "        self.tensors = tensors\n",
    "        self.mu = mu\n",
    "        self.std = std\n",
    "\n",
    "    def __getitem__(self, index):\n",
    "        x = self.tensors[0][index]\n",
    "        x = (x - self.mu) / self.std\n",
    "        y = self.tensors[1][index]\n",
    "        return (x, y)\n",
    "\n",
    "    def __len__(self):\n",
    "        return self.tensors[0].size(0)"
   ]
  },
  {
   "cell_type": "code",
   "execution_count": 6,
   "metadata": {},
   "outputs": [],
   "source": [
    "train_size = round(len(x) * 0.7)\n",
    "test_size = len(x) - train_size\n",
    "train_idx, test_idx = random_split(range(len(x)), [train_size, test_size])\n",
    "mu = x[train_idx].mean(dim=0)\n",
    "std = x[train_idx].std(dim=0)"
   ]
  },
  {
   "cell_type": "code",
   "execution_count": 7,
   "metadata": {},
   "outputs": [],
   "source": [
    "dataset_train = TensorDataset(x[train_idx], y[train_idx], mu=mu, std=std)\n",
    "dataset_test = TensorDataset(x[test_idx], y[test_idx], mu=mu, std=std)"
   ]
  },
  {
   "cell_type": "code",
   "execution_count": 8,
   "metadata": {},
   "outputs": [
    {
     "name": "stdout",
     "output_type": "stream",
     "text": [
      "train 2218\n",
      "test 950\n"
     ]
    }
   ],
   "source": [
    "print('train', len(dataset_train))\n",
    "print('test', len(dataset_test))"
   ]
  },
  {
   "cell_type": "code",
   "execution_count": 9,
   "metadata": {},
   "outputs": [],
   "source": [
    "batch_size = 64\n",
    "train_data = DataLoader(dataset_train, batch_size=batch_size, shuffle=True)\n",
    "test_data = DataLoader(dataset_test, batch_size=batch_size, shuffle=False)"
   ]
  },
  {
   "cell_type": "code",
   "execution_count": 10,
   "metadata": {},
   "outputs": [],
   "source": [
    "from torch import nn\n",
    "\n",
    "class VoiceModel(nn.Module):\n",
    "    def __init__(self):\n",
    "        super().__init__()\n",
    "        self.encode = nn.Sequential(\n",
    "            nn.Linear(20, 12),\n",
    "            nn.ReLU(True),\n",
    "            nn.BatchNorm1d(12),\n",
    "            nn.Linear(12, 7),\n",
    "            nn.ReLU(True),\n",
    "            nn.BatchNorm1d(7),\n",
    "            nn.Linear(7, 2),\n",
    "        )\n",
    "        self.fc = nn.Sequential(\n",
    "            nn.ReLU(True),\n",
    "            nn.BatchNorm1d(2),\n",
    "            nn.Dropout(),\n",
    "            nn.Linear(2, 1),\n",
    "        )\n",
    "        self.sigmoid = nn.Sigmoid()\n",
    "    \n",
    "    def forward(self, x):\n",
    "        out = self.encode(x)\n",
    "        out = self.fc(out)\n",
    "        return self.sigmoid(out)\n",
    "\n",
    "# class ResBlock(nn.Module):\n",
    "#     def __init__(self):\n",
    "#         super().__init__()\n",
    "#         self.fc = nn.Sequential(\n",
    "#             nn.Linear(5, 5),\n",
    "#             nn.Linear(5, 5),\n",
    "#         )\n",
    "    \n",
    "#     def forward(self, x):\n",
    "#         out = self.fc(x)\n",
    "#         return x + out\n",
    "\n",
    "# class VoiceModel(nn.Module):\n",
    "#     def __init__(self):\n",
    "#         super().__init__()\n",
    "#         self.pre = nn.Linear(20, 5)\n",
    "# #         self.blocks = nn.Sequential()\n",
    "#         self.blocks = nn.Sequential(\n",
    "#             ResBlock(),\n",
    "#             ResBlock(),\n",
    "#             ResBlock(),\n",
    "#         )\n",
    "#         self.fc = nn.Linear(5, 1)\n",
    "#         self.sigmoid = nn.Sigmoid()\n",
    "    \n",
    "#     def forward(self, x):\n",
    "#         out = self.pre(x)\n",
    "#         out = self.blocks(out)\n",
    "#         out = self.fc(out)\n",
    "#         return self.sigmoid(out)"
   ]
  },
  {
   "cell_type": "code",
   "execution_count": 11,
   "metadata": {},
   "outputs": [],
   "source": [
    "device = torch.device('cuda:2')\n",
    "model = VoiceModel().to(device)\n",
    "criterion = nn.BCELoss()\n",
    "optimizer = torch.optim.AdamW(model.parameters(), lr=3e-3)\n",
    "# optimizer = torch.optim.SGD(model.parameters(), lr=3e-3, momentum=0.9)"
   ]
  },
  {
   "cell_type": "code",
   "execution_count": 12,
   "metadata": {},
   "outputs": [
    {
     "data": {
      "text/plain": [
       "torch.Size([16, 1])"
      ]
     },
     "execution_count": 12,
     "metadata": {},
     "output_type": "execute_result"
    }
   ],
   "source": [
    "# test model\n",
    "test_x = torch.rand(16, 20).to(device)\n",
    "model(test_x).shape"
   ]
  },
  {
   "cell_type": "code",
   "execution_count": 13,
   "metadata": {},
   "outputs": [],
   "source": [
    "from tqdm import tqdm\n",
    "def train(model, data, epoch, criterion, optimizer, device, is_tqdm=False):\n",
    "    model.train()\n",
    "    loss_list = []\n",
    "    acc_count = 0\n",
    "\n",
    "    loader = enumerate(data)\n",
    "    if is_tqdm:\n",
    "        loader = tqdm(loader, total=len(data))\n",
    "    for i, (batch, label) in loader:\n",
    "        batch = batch.to(device)\n",
    "        label = label.to(device).float()\n",
    "\n",
    "        optimizer.zero_grad()\n",
    "        score = model(batch).squeeze() # predict the label\n",
    "        loss = criterion(score, label) # calculate error\n",
    "        loss_list.append(loss.item())\n",
    "        \n",
    "        pred = score.round()\n",
    "        acc_count += pred.eq(label).sum().item()\n",
    "        \n",
    "        loss.backward()  # back-propagation\n",
    "        optimizer.step() # gradient descent\n",
    "\n",
    "    acc = acc_count / (len(data) * data.batch_size) * 100\n",
    "    return sum(loss_list) / len(loss_list), acc\n",
    "\n",
    "def test(model, data, criterion, device, is_tqdm=False):\n",
    "    model.eval()\n",
    "    loss_list = []\n",
    "\n",
    "    acc_count = 0\n",
    "    loader = enumerate(data)\n",
    "    if is_tqdm:\n",
    "        loader = tqdm(loader, total=len(data))\n",
    "    for i, (batch, label) in loader:\n",
    "        batch = batch.to(device)\n",
    "        label = label.to(device).float()\n",
    "\n",
    "        score = model(batch).squeeze()\n",
    "        loss = criterion(score, label)\n",
    "        loss_list.append(loss.item())\n",
    "\n",
    "        pred = score.round()\n",
    "        acc_count += pred.eq(label).sum().item()\n",
    "\n",
    "    acc = acc_count / (len(data) * data.batch_size) * 100\n",
    "    return sum(loss_list) / len(loss_list), acc"
   ]
  },
  {
   "cell_type": "code",
   "execution_count": 14,
   "metadata": {},
   "outputs": [],
   "source": [
    "import matplotlib.pyplot as plt\n",
    "\n",
    "class Meter:\n",
    "    def __init__(self):\n",
    "        self.train_loss_list = []\n",
    "        self.train_acc_list = []\n",
    "        self.val_loss_list = []\n",
    "        self.val_acc_list = []\n",
    "    \n",
    "    def update(self, train_loss, train_acc, val_loss, val_acc):\n",
    "        self.train_loss_list.append(train_loss)\n",
    "        self.train_acc_list.append(train_acc)\n",
    "        self.val_loss_list.append(val_loss)\n",
    "        self.val_acc_list.append(val_acc)\n",
    "    \n",
    "    def plot(self):\n",
    "        x = range(len(self.train_loss_list))\n",
    "        plt.figure(figsize=(12, 4))\n",
    "        plt.plot(x, self.train_loss_list)\n",
    "        plt.plot(x, self.val_loss_list, color='r')\n",
    "        plt.legend(['train_loss', 'val_loss'])\n",
    "        plt.show()\n",
    "        plt.figure(figsize=(12, 4))\n",
    "        plt.plot(x, self.train_acc_list)\n",
    "        plt.plot(x, self.val_acc_list, color='r')\n",
    "        plt.legend(['train_acc', 'val_acc'])\n",
    "        plt.show()"
   ]
  },
  {
   "cell_type": "code",
   "execution_count": 15,
   "metadata": {},
   "outputs": [
    {
     "name": "stdout",
     "output_type": "stream",
     "text": [
      "==========Train Epoch 10==========\n",
      "Train loss: 0.2378 acc: 85.67 - Test loss: 0.1008 acc: 96.56\n",
      "==========Train Epoch 20==========\n",
      "Train loss: 0.2216 acc: 85.45 - Test loss: 0.0810 acc: 97.08\n",
      "==========Train Epoch 30==========\n",
      "Train loss: 0.2114 acc: 84.29 - Test loss: 0.0636 acc: 96.77\n",
      "==========Train Epoch 40==========\n",
      "Train loss: 0.2189 acc: 84.64 - Test loss: 0.0652 acc: 97.08\n",
      "==========Train Epoch 50==========\n",
      "Train loss: 0.1929 acc: 86.70 - Test loss: 0.0651 acc: 97.08\n",
      "==========Train Epoch 60==========\n",
      "Train loss: 0.2055 acc: 85.76 - Test loss: 0.0599 acc: 96.67\n",
      "==========Train Epoch 70==========\n",
      "Train loss: 0.1850 acc: 86.38 - Test loss: 0.0586 acc: 96.77\n",
      "==========Train Epoch 80==========\n",
      "Train loss: 0.1907 acc: 86.52 - Test loss: 0.0612 acc: 96.56\n",
      "==========Train Epoch 90==========\n",
      "Train loss: 0.2012 acc: 85.31 - Test loss: 0.0581 acc: 96.56\n"
     ]
    }
   ],
   "source": [
    "from torch.optim.lr_scheduler import StepLR\n",
    "\n",
    "max_epoch = 90\n",
    "step_size = 30\n",
    "log_interval = 10\n",
    "\n",
    "scheduler = StepLR(optimizer, step_size=step_size, gamma=0.3)\n",
    "\n",
    "meter = Meter()\n",
    "\n",
    "for epoch in range(1, max_epoch + 1):\n",
    "    if epoch % log_interval == 0:\n",
    "        tqdm.write('==========Train Epoch {}=========='.format(epoch))\n",
    "    train_loss, train_acc = train(model, train_data, epoch, criterion, optimizer, device)\n",
    "    test_loss, test_acc = test(model, test_data, criterion, device)\n",
    "    scheduler.step()\n",
    "    \n",
    "    meter.update(train_loss, train_acc, test_loss, test_acc)\n",
    "    \n",
    "    if epoch % log_interval == 0:\n",
    "        print('Train loss: {:.04f} acc: {:.02f} - Test loss: {:.04f} acc: {:.02f}'.format(\n",
    "            train_loss, train_acc, test_loss, test_acc\n",
    "        ))"
   ]
  },
  {
   "cell_type": "code",
   "execution_count": 20,
   "metadata": {},
   "outputs": [
    {
     "name": "stdout",
     "output_type": "stream",
     "text": [
      "96.19\n",
      "96.94666666666666\n",
      "91.86\n",
      "96.77333333333333\n",
      "85.58\n",
      "96.32000000000001\n"
     ]
    }
   ],
   "source": [
    "# dim5\n",
    "train_accs = [96.38, 96.16, 96.03]\n",
    "test_accs = [97.08, 96.88, 96.88]\n",
    "print(sum(train_accs) / len(train_accs))\n",
    "print(sum(test_accs) / len(test_accs))\n",
    "# dim3\n",
    "train_accs = [91.43, 92.41, 91.74]\n",
    "test_accs = [96.77, 96.67, 96.88]\n",
    "print(sum(train_accs) / len(train_accs))\n",
    "print(sum(test_accs) / len(test_accs))\n",
    "# dim2\n",
    "train_accs = [85.09, 86.34, 85.31]\n",
    "test_accs = [96.25, 96.15, 96.56]\n",
    "print(sum(train_accs) / len(train_accs))\n",
    "print(sum(test_accs) / len(test_accs))"
   ]
  },
  {
   "cell_type": "code",
   "execution_count": 21,
   "metadata": {},
   "outputs": [
    {
     "name": "stdout",
     "output_type": "stream",
     "text": [
      "0.1194\n",
      "0.07440000000000001\n",
      "0.1977\n",
      "0.08376666666666666\n"
     ]
    }
   ],
   "source": [
    "# dim5\n",
    "# train_losses = []\n",
    "# test_losses = []\n",
    "# print(sum(train_losses) / len(train_losses))\n",
    "# print(sum(test_losses) / len(test_losses))\n",
    "# dim3\n",
    "train_losses = [0.1263, 0.1165, 0.1154]\n",
    "test_losses = [0.0809, 0.0722, 0.0701]\n",
    "print(sum(train_losses) / len(train_losses))\n",
    "print(sum(test_losses) / len(test_losses))\n",
    "# dim2\n",
    "train_losses = [0.2061, 0.1858, 0.2012]\n",
    "test_losses = [0.1036, 0.0896, 0.0581]\n",
    "print(sum(train_losses) / len(train_losses))\n",
    "print(sum(test_losses) / len(test_losses))"
   ]
  },
  {
   "cell_type": "code",
   "execution_count": 18,
   "metadata": {},
   "outputs": [
    {
     "data": {
      "image/png": "[encoded data removed]",
      "text/plain": [
       "<Figure size 864x288 with 1 Axes>"
      ]
     },
     "metadata": {
      "needs_background": "light"
     },
     "output_type": "display_data"
    },
    {
     "data": {
      "image/png": "[encoded data removed]",
      "text/plain": [
       "<Figure size 864x288 with 1 Axes>"
      ]
     },
     "metadata": {
      "needs_background": "light"
     },
     "output_type": "display_data"
    }
   ],
   "source": [
    "meter.plot()"
   ]
  },
  {
   "cell_type": "markdown",
   "metadata": {},
   "source": [
    "- AdamW e80 step 20 gamma 0.3  \n",
    "Train loss: 0.0941 acc: 96.34 - Test loss: 0.0773 acc: 96.77  \n",
    "Train loss: 0.0911 acc: 96.34 - Test loss: 0.0856 acc: 96.56  \n",
    "- SGD mementum 0.9  \n",
    "Train loss: 0.0852 acc: 96.88 - Test loss: 0.0999 acc: 96.56\n",
    "- model 20,5,5,5,1  \n",
    "Train loss: 0.0865 acc: 96.56 - Test loss: 0.0979 acc: 96.35  \n",
    "Train loss: 0.0946 acc: 96.34 - Test loss: 0.0746 acc: 97.29 gamma 0.1"
   ]
  },
  {
   "cell_type": "markdown",
   "metadata": {},
   "source": [
    "- model 20,5,1 gamma=0.1 SGD  \n",
    "Train loss: 0.0922 acc: 96.47 - Test loss: 0.0868 acc: 96.77"
   ]
  },
  {
   "cell_type": "code",
   "execution_count": 19,
   "metadata": {},
   "outputs": [],
   "source": [
    "# torch.save('ckpts/supervised_acc9625.pt')"
   ]
  }
 ],
 "metadata": {
  "kernelspec": {
   "display_name": "Python 3",
   "language": "python",
   "name": "python3"
  },
  "language_info": {
   "codemirror_mode": {
    "name": "ipython",
    "version": 3
   },
   "file_extension": ".py",
   "mimetype": "text/x-python",
   "name": "python",
   "nbconvert_exporter": "python",
   "pygments_lexer": "ipython3",
   "version": "3.6.8"
  }
 },
 "nbformat": 4,
 "nbformat_minor": 4
}
